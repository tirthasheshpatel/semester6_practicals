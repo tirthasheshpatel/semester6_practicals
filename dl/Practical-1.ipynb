{
 "cells": [
  {
   "cell_type": "markdown",
   "metadata": {},
   "source": [
    "# Practical 1: MLP Classifier on MNIST"
   ]
  },
  {
   "cell_type": "code",
   "execution_count": 1,
   "metadata": {},
   "outputs": [],
   "source": [
    "import numpy as np\n",
    "from sklearn.datasets import load_digits\n",
    "from sklearn.neural_network import MLPClassifier\n",
    "from sklearn.preprocessing import OneHotEncoder\n",
    "from sklearn.model_selection import train_test_split\n",
    "from sklearn.metrics import accuracy_score, classification_report\n",
    "from matplotlib import pyplot as plt"
   ]
  },
  {
   "cell_type": "code",
   "execution_count": 2,
   "metadata": {},
   "outputs": [],
   "source": [
    "X, y = load_digits(return_X_y=True)"
   ]
  },
  {
   "cell_type": "code",
   "execution_count": 3,
   "metadata": {},
   "outputs": [],
   "source": [
    "X = X / 255.\n",
    "encoder = OneHotEncoder()\n",
    "y = encoder.fit_transform(y.reshape(-1, 1)).toarray()"
   ]
  },
  {
   "cell_type": "code",
   "execution_count": 4,
   "metadata": {
    "scrolled": false
   },
   "outputs": [
    {
     "data": {
      "text/plain": [
       "<matplotlib.image.AxesImage at 0x7fd829483c10>"
      ]
     },
     "execution_count": 4,
     "metadata": {},
     "output_type": "execute_result"
    },
    {
     "data": {
      "image/png": "[encoded data removed]",
      "text/plain": [
       "<Figure size 360x360 with 1 Axes>"
      ]
     },
     "metadata": {
      "needs_background": "light"
     },
     "output_type": "display_data"
    }
   ],
   "source": [
    "fig, ax = plt.subplots(figsize=(5, 5))\n",
    "X_to_plot = X[:49, :]\n",
    "X_to_plot = np.c_[X_to_plot[  : 7, ...].reshape(8*7, 8),\n",
    "                  X_to_plot[ 7:14, ...].reshape(8*7, 8),\n",
    "                  X_to_plot[14:21, ...].reshape(8*7, 8),\n",
    "                  X_to_plot[21:28, ...].reshape(8*7, 8),\n",
    "                  X_to_plot[28:35, ...].reshape(8*7, 8),\n",
    "                  X_to_plot[35:42, ...].reshape(8*7, 8),\n",
    "                  X_to_plot[42:49, ...].reshape(8*7, 8)]\n",
    "ax.imshow(X_to_plot)"
   ]
  },
  {
   "cell_type": "code",
   "execution_count": 5,
   "metadata": {},
   "outputs": [],
   "source": [
    "X_train, X_test, y_train, y_test = train_test_split(X, y, test_size=0.2, random_state=0xffffff)"
   ]
  },
  {
   "cell_type": "code",
   "execution_count": 6,
   "metadata": {},
   "outputs": [],
   "source": [
    "model = MLPClassifier(\n",
    "    hidden_layer_sizes=(16, 16),\n",
    "    activation='relu',\n",
    "    solver='adam',\n",
    "    alpha=0.01,\n",
    "    batch_size='auto',\n",
    "    learning_rate='constant',\n",
    "    learning_rate_init=0.002,\n",
    "#     power_t=0.5,\n",
    "    max_iter=2000,\n",
    "    shuffle=True,\n",
    "#     warm_start=False,\n",
    "#     momentum=0.9,\n",
    "#     nesterovs_momentum=True,\n",
    "#     early_stopping=True,\n",
    "#     tol=1e-5,\n",
    "#     n_iter_no_change=5,\n",
    "    beta_1=0.9,\n",
    "    beta_2=0.999,\n",
    "    epsilon=1e-12,\n",
    "#     verbose=True,\n",
    "    random_state=42\n",
    ")"
   ]
  },
  {
   "cell_type": "code",
   "execution_count": 7,
   "metadata": {
    "scrolled": true
   },
   "outputs": [
    {
     "data": {
      "text/plain": [
       "MLPClassifier(alpha=0.01, epsilon=1e-12, hidden_layer_sizes=(16, 16),\n",
       "              learning_rate_init=0.002, max_iter=2000, random_state=42)"
      ]
     },
     "execution_count": 7,
     "metadata": {},
     "output_type": "execute_result"
    }
   ],
   "source": [
    "model.fit(X_train, y_train)"
   ]
  },
  {
   "cell_type": "code",
   "execution_count": 8,
   "metadata": {},
   "outputs": [],
   "source": [
    "y_preds = np.argmax(model.predict(X_test), axis=1)\n",
    "y_actual = np.argmax(y_test, axis=1)"
   ]
  },
  {
   "cell_type": "code",
   "execution_count": 9,
   "metadata": {},
   "outputs": [
    {
     "name": "stdout",
     "output_type": "stream",
     "text": [
      "              precision    recall  f1-score   support\n",
      "\n",
      "           0       0.86      0.78      0.82        41\n",
      "           1       0.95      0.98      0.97        43\n",
      "           2       0.94      0.94      0.94        34\n",
      "           3       0.91      0.94      0.92        32\n",
      "           4       1.00      0.90      0.95        40\n",
      "           5       0.97      0.94      0.96        34\n",
      "           6       0.94      0.94      0.94        33\n",
      "           7       0.97      0.97      0.97        37\n",
      "           8       0.88      1.00      0.94        29\n",
      "           9       0.90      0.97      0.94        37\n",
      "\n",
      "    accuracy                           0.93       360\n",
      "   macro avg       0.93      0.94      0.93       360\n",
      "weighted avg       0.93      0.93      0.93       360\n",
      "\n"
     ]
    }
   ],
   "source": [
    "print(classification_report(y_preds, y_actual))"
   ]
  },
  {
   "cell_type": "code",
   "execution_count": 10,
   "metadata": {},
   "outputs": [
    {
     "data": {
      "text/plain": [
       "0.9333333333333333"
      ]
     },
     "execution_count": 10,
     "metadata": {},
     "output_type": "execute_result"
    }
   ],
   "source": [
    "accuracy_score(y_preds, y_actual)"
   ]
  },
  {
   "cell_type": "code",
   "execution_count": null,
   "metadata": {},
   "outputs": [],
   "source": []
  }
 ],
 "metadata": {
  "kernelspec": {
   "display_name": "dl-lab",
   "language": "python",
   "name": "dl-lab"
  },
  "language_info": {
   "codemirror_mode": {
    "name": "ipython",
    "version": 3
   },
   "file_extension": ".py",
   "mimetype": "text/x-python",
   "name": "python",
   "nbconvert_exporter": "python",
   "pygments_lexer": "ipython3",
   "version": "3.8.5"
  }
 },
 "nbformat": 4,
 "nbformat_minor": 4
}
